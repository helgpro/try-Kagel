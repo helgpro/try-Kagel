{
 "cells": [
  {
   "cell_type": "markdown",
   "metadata": {},
   "source": [
    "# Вопросы\n"
   ]
  },
  {
   "cell_type": "code",
   "execution_count": null,
   "metadata": {},
   "outputs": [],
   "source": [
    "# не аотрабатывает такая схема в цикле\n",
    "times = ['time%s' % i for i in range(1, 11)]\n",
    "train_df[times].apply(lambda a: a.hour)\n",
    "\n",
    "#хотя так работает\n",
    "train_df['time1'] = train_df['time1'].apply(lambda a: a.hour)\n"
   ]
  },
  {
   "cell_type": "markdown",
   "metadata": {},
   "source": [
    "#### можно ли датафрэйм запихать в Countvectorize\n",
    "#### у меня сначала сохраняет в текст иначе число матрицы обсурдное становиться"
   ]
  },
  {
   "cell_type": "markdown",
   "metadata": {},
   "source": [
    "#### vectorizer.fit_transform и trasform "
   ]
  },
  {
   "cell_type": "raw",
   "metadata": {},
   "source": [
    "            site1\tsite2\tsite3\tsite4\tsite5\tsite6\tsite7\tsite8\tsite9\tsite10\n",
    "session_id\t\t\t\t\t\t\t\t\t\t\n",
    "21669\t     56\t     55\t      0\t       0\t  0\t      0\t      0\t      0\t      0    \t 0\n",
    "54843\t     56\t     55\t      56\t   55\t  0       0       0    \t  0\t      0\t     0\n",
    "77292\t     946\t946\t     951\t   946\t 946\t 945\t 948\t 784\t 949\t946\n",
    "114021\t     945\t948\t     949\t   948\t 945\t 946\t 947\t 945\t 946\t946\n",
    "146670\t     947\t950\t     948\t   947\t 950\t 952\t 946\t 951\t 946\t947\n",
    "242171\t     952\t947\t     953\t   946\t 947\t 946\t 953\t 955\t 946\t947\n",
    "57157\t     953\t947\t     946\t   953\t 955\t 947\t 953\t 946\t 953\t1033\n",
    "240201\t     946\t947\t     954\t   953\t 946\t 954\t 946\t 956\t 957\t956\n",
    "210686\t     946\t956\t     946\t   946\t 955\t 954\t 946\t 946\t 946\t948\n",
    "\n",
    "и т д\n",
    "___________________________________________________________________________________________________________________\n",
    "full_df = pd.concat([train_df.drop('target', axis=1), test_df])# удаляем ответы и объединяем с тестовой выборкой \n",
    "# тут объеденяем выборки обуч и тестовую что б привести их к разряженному формату\n",
    "\n",
    "from scipy.sparse import csr_matrix\n",
    "\n",
    "# последовательность с индексами\n",
    "sites_flatten = full_sites.values.flatten() #  [  56.   55.   nan ... 1098. 1098. 1098.] делает один общ список\n",
    "\n",
    "# искомая матрица  flatten запихивает масив м строку(но массив одинарный) F порядок записи первые элементы потом вторые\n",
    "full_sites_sparse = csr_matrix(([1] * sites_flatten.shape[0], # [55.0] * 3363580 количество элементов записсанные в строку\n",
    "                                ## [1, 1, 1,... 1, 1, 1, 1]\n",
    "                                sites_flatten,# САМ МАСИВ\n",
    "                                range(0, sites_flatten.shape[0] + 10, 10)))[:, 1:]#от 0 10 20 30 40 до 3363590 с шагам 10 \n",
    "                                # [:, 1:]# весь второй столбец и того\n",
    "    #[1, 1, 1,... 1, 1, 1, 1] , 3363580 , [0, 10, 20..336590] , и второй столбец\n",
    "    \n",
    "    # Вопрос нафига тут .shape[0] + 10, 10)))[:, 1:]"
   ]
  }
 ],
 "metadata": {
  "kernelspec": {
   "display_name": "Python 3",
   "language": "python",
   "name": "python3"
  },
  "language_info": {
   "codemirror_mode": {
    "name": "ipython",
    "version": 3
   },
   "file_extension": ".py",
   "mimetype": "text/x-python",
   "name": "python",
   "nbconvert_exporter": "python",
   "pygments_lexer": "ipython3",
   "version": "3.7.2"
  }
 },
 "nbformat": 4,
 "nbformat_minor": 2
}
